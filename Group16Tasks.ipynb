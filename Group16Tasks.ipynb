{
 "cells": [
  {
   "cell_type": "markdown",
   "metadata": {
    "id": "4z_Z-K1tlrS7"
   },
   "source": [
    "## 1. Complete the following code to find the area of an equilateral triangle. Output should be as displayed"
   ]
  },
  {
   "cell_type": "code",
   "execution_count": 3,
   "metadata": {
    "id": "rP2qFD_SlrS_"
   },
   "outputs": [
    {
     "name": "stdout",
     "output_type": "stream",
     "text": [
      "Enter the side of the equilateral triangle: 5\n",
      "Area= 10.825317547305483\n"
     ]
    }
   ],
   "source": [
    "import math\n",
    "side = float(input(\"Enter the side of the equilateral triangle: \"))\n",
    "area = ((math.sqrt(3))/4)*pow(side,2)\n",
    "print('Area=',area)\n"
   ]
  },
  {
   "cell_type": "markdown",
   "metadata": {
    "id": "TjVKjIfclrTB"
   },
   "source": [
    "## 2. Write a program to count the number of each characters in a string"
   ]
  },
  {
   "cell_type": "code",
   "execution_count": 2,
   "metadata": {
    "id": "JY5seVUQlrTC",
    "scrolled": true
   },
   "outputs": [
    {
     "name": "stdout",
     "output_type": "stream",
     "text": [
      "Enter a stringHello\n",
      "Enter a character for its no of occurencel\n",
      "No of times l occur is 2\n"
     ]
    }
   ],
   "source": [
    "string=str (input(\"Enter a string\"))\n",
    "c=str(input('Enter a character for it''s no of occurence'''))\n",
    "count=0\n",
    "for i in string:\n",
    "    if i==c:\n",
    "        count+=1\n",
    "print('No of times',c,'occur is',count)\n",
    "   \n",
    "        \n",
    "        \n",
    "        \n",
    "\n",
    "    \n",
    "        \n",
    "    "
   ]
  },
  {
   "cell_type": "markdown",
   "metadata": {
    "id": "l3LCULfklrTD"
   },
   "source": [
    "## 3.Write a program to find the area and perimeter of a rectangle using functions"
   ]
  },
  {
   "cell_type": "code",
   "execution_count": 40,
   "metadata": {
    "id": "8haQD8edlrTD",
    "scrolled": true
   },
   "outputs": [
    {
     "name": "stdout",
     "output_type": "stream",
     "text": [
      "Area: 30\n",
      "Perimeter: 22\n"
     ]
    }
   ],
   "source": [
    "def area(l,b):\n",
    "    return l*b\n",
    "def perimeter(l,b):\n",
    "    return (2*(l+b))\n",
    "\n",
    "print('Area:',area(6,5))\n",
    "print('Perimeter:',perimeter(6,5))\n"
   ]
  },
  {
   "cell_type": "markdown",
   "metadata": {
    "id": "JHK4ZdsflrTE"
   },
   "source": [
    "## 4. Write a program to print the fibonacci series till a specified number"
   ]
  },
  {
   "cell_type": "code",
   "execution_count": null,
   "metadata": {
    "id": "LyBEj-4SlrTE",
    "scrolled": false
   },
   "outputs": [
    {
     "name": "stdout",
     "output_type": "stream",
     "text": [
      "Enter the number50\n",
      "0\n",
      "1\n",
      "1\n",
      "2\n",
      "3\n",
      "5\n",
      "8\n",
      "13\n",
      "21\n",
      "34\n",
      "55\n",
      "89\n",
      "144\n",
      "233\n",
      "377\n",
      "610\n",
      "987\n",
      "1597\n",
      "2584\n",
      "4181\n",
      "6765\n",
      "10946\n",
      "17711\n",
      "28657\n",
      "46368\n",
      "75025\n",
      "121393\n",
      "196418\n",
      "317811\n",
      "514229\n",
      "832040\n",
      "1346269\n",
      "2178309\n",
      "3524578\n",
      "5702887\n",
      "9227465\n",
      "14930352\n",
      "24157817\n",
      "39088169\n",
      "63245986\n",
      "102334155\n",
      "165580141\n",
      "267914296\n",
      "433494437\n",
      "701408733\n",
      "1134903170\n",
      "1836311903\n",
      "2971215073\n"
     ]
    }
   ],
   "source": [
    "def fib(n):\n",
    "    if n<=1:\n",
    "        return n\n",
    "    else:\n",
    "        return (fib(n-1)+fib(n-2))\n",
    "m=int(input('Enter the number'))\n",
    "for i in range(0,m):\n",
    "    print(fib(i))\n",
    "    \n",
    "\n",
    "\n",
    "\n",
    "    "
   ]
  },
  {
   "cell_type": "markdown",
   "metadata": {
    "id": "u4uBUcQKlrTE"
   },
   "source": [
    "## 5. Complete the following code to find the minimum of 3 number using cinditional statements. Output should be as displayed"
   ]
  },
  {
   "cell_type": "code",
   "execution_count": 16,
   "metadata": {
    "id": "XdZwrZjIlrTF"
   },
   "outputs": [
    {
     "name": "stdin",
     "output_type": "stream",
     "text": [
      "Enter three numbers followed by  :  6 4 9\n"
     ]
    },
    {
     "name": "stdout",
     "output_type": "stream",
     "text": [
      "First number : 6\n",
      "Second number : 4\n",
      "Third number : 9\n",
      "4  is smallest\n"
     ]
    }
   ],
   "source": [
    "a,b,c = input(\"Enter three numbers followed by  : \").split()\n",
    "\n",
    "print(\"First number :\",a)\n",
    "print(\"Second number :\",b)\n",
    "print(\"Third number :\",c)\n",
    "if(a==b)&(a==c):\n",
    "      print(\"Entered numbers are equal!!!\")\n",
    "elif(a<b)&(a<c):\n",
    "      print(a,\" is smallest\")\n",
    "elif(b<a)&(b<c):\n",
    "      print(b,\" is smallest\")\n",
    "else:\n",
    "    print(c,\" is smallest\")"
   ]
  },
  {
   "cell_type": "markdown",
   "metadata": {
    "id": "aR_CnToWlrTG"
   },
   "source": [
    "## 6. Write a program to print star pyramind. The number of rows should be taken as input from the user"
   ]
  },
  {
   "cell_type": "code",
   "execution_count": 14,
   "metadata": {
    "id": "M37A-buplrTG",
    "scrolled": true
   },
   "outputs": [
    {
     "name": "stdin",
     "output_type": "stream",
     "text": [
      "enter the no of raws: 5\n"
     ]
    },
    {
     "name": "stdout",
     "output_type": "stream",
     "text": [
      "        *    \n",
      "      *   *    \n",
      "    *   *   *    \n",
      "  *   *   *   *    \n",
      "*   *   *   *   *    \n"
     ]
    }
   ],
   "source": [
    "n=int(input(\"enter the no of raws:\"))\n",
    "k=n-1\n",
    "for i in range(0,n):\n",
    "    for j in range(0,k):\n",
    "        print(end=\"  \")\n",
    "    k=k-1\n",
    "    for j in range(0,i+1):\n",
    "        print(\"* \",end=\"  \")\n",
    "    print(\" \\r\") "
   ]
  },
  {
   "cell_type": "markdown",
   "metadata": {
    "id": "CnYorNiLlrTI"
   },
   "source": [
    "## 8. Write a program to print multiplication table as below"
   ]
  },
  {
   "cell_type": "code",
   "execution_count": 10,
   "metadata": {
    "id": "dPQqDPuDlrTI",
    "scrolled": true
   },
   "outputs": [
    {
     "name": "stdout",
     "output_type": "stream",
     "text": [
      "The multiplication table of \n",
      "9\n",
      "1 * 9 = 9\n",
      "2 * 9 = 18\n",
      "3 * 9 = 27\n",
      "4 * 9 = 36\n",
      "5 * 9 = 45\n",
      "6 * 9 = 54\n",
      "7 * 9 = 63\n",
      "8 * 9 = 72\n",
      "9 * 9 = 81\n",
      "10 * 9 = 90\n"
     ]
    }
   ],
   "source": [
    "def multiply(n):\n",
    " for i in range(1,11):\n",
    "    print(i, '*' ,n, '=' ,i*n)\n",
    "number = int(input(\"The multiplication table of \\n\"))\n",
    "multiply(number)\n",
    "    "
   ]
  },
  {
   "cell_type": "markdown",
   "metadata": {
    "id": "aR_CnToWlrTG"
   },
   "source": [
    "## 9. Write a program to take your 5 favorite food as list and print each as 'I like Biriyani'"
   ]
  },
  {
   "cell_type": "code",
   "execution_count": 1,
   "metadata": {
    "id": "39W1zFX7lrTJ"
   },
   "outputs": [
    {
     "name": "stdout",
     "output_type": "stream",
     "text": [
      "\n",
      " I like Biriyani \n",
      "\n",
      "\n",
      " I like Pizza \n",
      "\n",
      "\n",
      " I like Chapathi \n",
      "\n",
      "\n",
      " I like Fried-Rice \n",
      "\n",
      "\n",
      " I like Porotta \n",
      "\n"
     ]
    }
   ],
   "source": [
    "i=0\n",
    "fav=''\n",
    "food=['Biriyani','Pizza','Chapathi','Fried-Rice','Porotta']\n",
    "for i in food:\n",
    "    fav+=i;\n",
    "    print('\\n I like' ,i, '\\n')"
   ]
  },
  {
   "cell_type": "markdown",
   "metadata": {
    "id": "3vlcDNNEP7d_"
   },
   "source": [
    "## 10. Find error(s) in the following code(if any) and rewrite code.\n",
    "\n"
   ]
  },
  {
   "cell_type": "code",
   "execution_count": 2,
   "metadata": {
    "id": "coREkcY3P9sG"
   },
   "outputs": [
    {
     "ename": "SyntaxError",
     "evalue": "invalid character in identifier (<ipython-input-2-3acf488f353b>, line 1)",
     "output_type": "error",
     "traceback": [
      "\u001b[1;36m  File \u001b[1;32m\"<ipython-input-2-3acf488f353b>\"\u001b[1;36m, line \u001b[1;32m1\u001b[0m\n\u001b[1;33m    x= int(“Enter value of x:”)\u001b[0m\n\u001b[1;37m                ^\u001b[0m\n\u001b[1;31mSyntaxError\u001b[0m\u001b[1;31m:\u001b[0m invalid character in identifier\n"
     ]
    }
   ],
   "source": [
    "x= int(“Enter value of x:”)\n",
    "for in range [0,10]:\n",
    "     if x=y\n",
    "          print(\"They are equal\")\n",
    "     else:\n",
    "         Print( \"They are unequal\")\n",
    "        "
   ]
  },
  {
   "cell_type": "markdown",
   "metadata": {},
   "source": [
    "#Correction"
   ]
  },
  {
   "cell_type": "code",
   "execution_count": 3,
   "metadata": {},
   "outputs": [
    {
     "name": "stdout",
     "output_type": "stream",
     "text": [
      "Enter the value of x:11\n",
      "They are unequal\n"
     ]
    }
   ],
   "source": [
    "\n",
    "\n",
    "x= int(input('Enter the value of x:'))\n",
    "y= range(0,10)\n",
    "if x in y:\n",
    "    print(\"They are equal\")\n",
    "else:\n",
    "    print(\"They are unequal\")"
   ]
  },
  {
   "cell_type": "code",
   "execution_count": null,
   "metadata": {},
   "outputs": [],
   "source": []
  }
 ],
 "metadata": {
  "colab": {
   "collapsed_sections": [],
   "name": "Q&A activity student file.ipynb",
   "provenance": []
  },
  "kernelspec": {
   "display_name": "Python 3",
   "language": "python",
   "name": "python3"
  },
  "language_info": {
   "codemirror_mode": {
    "name": "ipython",
    "version": 3
   },
   "file_extension": ".py",
   "mimetype": "text/x-python",
   "name": "python",
   "nbconvert_exporter": "python",
   "pygments_lexer": "ipython3",
   "version": "3.8.8"
  }
 },
 "nbformat": 4,
 "nbformat_minor": 1
}
