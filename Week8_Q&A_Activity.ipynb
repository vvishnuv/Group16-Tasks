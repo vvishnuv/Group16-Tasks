{
 "cells": [
  {
   "cell_type": "markdown",
   "id": "9acd783e",
   "metadata": {},
   "source": [
    "# Week 8 Activity test"
   ]
  },
  {
   "cell_type": "markdown",
   "id": "4c3afcff",
   "metadata": {},
   "source": [
    "# 1. Carry out descriptive analytics on the dataset"
   ]
  },
  {
   "cell_type": "code",
   "execution_count": 1,
   "id": "c7f0438b",
   "metadata": {},
   "outputs": [],
   "source": [
    "import pandas as pd\n",
    "import numpy as np\n",
    "import matplotlib.pyplot as plt\n",
    "import seaborn as sns"
   ]
  },
  {
   "cell_type": "code",
   "execution_count": 2,
   "id": "d8cd4a17",
   "metadata": {},
   "outputs": [],
   "source": [
    "data=pd.read_csv(\"E:\\Python Programming\\Assignments\\Week_8_Q&A_dataset - Sheet1.csv\")"
   ]
  },
  {
   "cell_type": "code",
   "execution_count": 3,
   "id": "7909db7b",
   "metadata": {},
   "outputs": [
    {
     "data": {
      "text/html": [
       "<div>\n",
       "<style scoped>\n",
       "    .dataframe tbody tr th:only-of-type {\n",
       "        vertical-align: middle;\n",
       "    }\n",
       "\n",
       "    .dataframe tbody tr th {\n",
       "        vertical-align: top;\n",
       "    }\n",
       "\n",
       "    .dataframe thead th {\n",
       "        text-align: right;\n",
       "    }\n",
       "</style>\n",
       "<table border=\"1\" class=\"dataframe\">\n",
       "  <thead>\n",
       "    <tr style=\"text-align: right;\">\n",
       "      <th></th>\n",
       "      <th>Gender</th>\n",
       "      <th>Test preparation</th>\n",
       "      <th>Total Marks</th>\n",
       "    </tr>\n",
       "  </thead>\n",
       "  <tbody>\n",
       "    <tr>\n",
       "      <th>0</th>\n",
       "      <td>male</td>\n",
       "      <td>none</td>\n",
       "      <td>14</td>\n",
       "    </tr>\n",
       "    <tr>\n",
       "      <th>1</th>\n",
       "      <td>female</td>\n",
       "      <td>none</td>\n",
       "      <td>28</td>\n",
       "    </tr>\n",
       "    <tr>\n",
       "      <th>2</th>\n",
       "      <td>female</td>\n",
       "      <td>none</td>\n",
       "      <td>18</td>\n",
       "    </tr>\n",
       "    <tr>\n",
       "      <th>3</th>\n",
       "      <td>female</td>\n",
       "      <td>none</td>\n",
       "      <td>48</td>\n",
       "    </tr>\n",
       "    <tr>\n",
       "      <th>4</th>\n",
       "      <td>female</td>\n",
       "      <td>none</td>\n",
       "      <td>21</td>\n",
       "    </tr>\n",
       "  </tbody>\n",
       "</table>\n",
       "</div>"
      ],
      "text/plain": [
       "   Gender Test preparation  Total Marks\n",
       "0    male             none           14\n",
       "1  female             none           28\n",
       "2  female             none           18\n",
       "3  female             none           48\n",
       "4  female             none           21"
      ]
     },
     "execution_count": 3,
     "metadata": {},
     "output_type": "execute_result"
    }
   ],
   "source": [
    "data.head()"
   ]
  },
  {
   "cell_type": "code",
   "execution_count": 4,
   "id": "c81ef9bc",
   "metadata": {},
   "outputs": [
    {
     "data": {
      "text/plain": [
       "Gender              object\n",
       "Test preparation    object\n",
       "Total Marks          int64\n",
       "dtype: object"
      ]
     },
     "execution_count": 4,
     "metadata": {},
     "output_type": "execute_result"
    }
   ],
   "source": [
    "data.dtypes"
   ]
  },
  {
   "cell_type": "markdown",
   "id": "1aa3c8f8",
   "metadata": {},
   "source": [
    "Datatype of column need to be changed "
   ]
  },
  {
   "cell_type": "code",
   "execution_count": 5,
   "id": "4a309dad",
   "metadata": {},
   "outputs": [],
   "source": [
    "data['Gender']=data['Gender'].astype('str')"
   ]
  },
  {
   "cell_type": "code",
   "execution_count": 6,
   "id": "4f2d2fb6",
   "metadata": {},
   "outputs": [
    {
     "data": {
      "text/plain": [
       "16"
      ]
     },
     "execution_count": 6,
     "metadata": {},
     "output_type": "execute_result"
    }
   ],
   "source": [
    "(data['Gender']=='female').sum()"
   ]
  },
  {
   "cell_type": "code",
   "execution_count": 12,
   "id": "db19f033",
   "metadata": {},
   "outputs": [
    {
     "data": {
      "text/plain": [
       "Gender\n",
       "female    540\n",
       "male      365\n",
       "Name: Total Marks, dtype: int64"
      ]
     },
     "execution_count": 12,
     "metadata": {},
     "output_type": "execute_result"
    }
   ],
   "source": [
    "data['Total Marks'].groupby(data['Gender']).sum()"
   ]
  },
  {
   "cell_type": "code",
   "execution_count": 13,
   "id": "aa8ef964",
   "metadata": {},
   "outputs": [
    {
     "data": {
      "text/plain": [
       "Gender\n",
       "female    33.750000\n",
       "male      30.416667\n",
       "Name: Total Marks, dtype: float64"
      ]
     },
     "execution_count": 13,
     "metadata": {},
     "output_type": "execute_result"
    }
   ],
   "source": [
    "data['Total Marks'].groupby(data['Gender']).mean()"
   ]
  },
  {
   "cell_type": "markdown",
   "id": "13069b2f",
   "metadata": {},
   "source": [
    "### As part iof initial analysis,looking at the sum and mean of Total Marks genderwise, \n",
    "### female students are performing better than boys."
   ]
  },
  {
   "cell_type": "markdown",
   "id": "fd82107d",
   "metadata": {},
   "source": [
    "\n",
    "\n",
    "# 2. Check whether female and male students scored the same marks.\n"
   ]
  },
  {
   "cell_type": "markdown",
   "id": "e9d86255",
   "metadata": {},
   "source": [
    "## Two Tailed t-test"
   ]
  },
  {
   "cell_type": "markdown",
   "id": "d958596f",
   "metadata": {},
   "source": [
    "### Null Hypothesis :- Female and male students scored the same marks \n",
    "### Alternate Hypothesis :- Female and male students scored different marks"
   ]
  },
  {
   "cell_type": "code",
   "execution_count": 15,
   "id": "2ebd6b1a",
   "metadata": {},
   "outputs": [
    {
     "data": {
      "text/plain": [
       "Gender\n",
       "female    33.750000\n",
       "male      30.416667\n",
       "Name: Total Marks, dtype: float64"
      ]
     },
     "execution_count": 15,
     "metadata": {},
     "output_type": "execute_result"
    }
   ],
   "source": [
    "data['Total Marks'].groupby(data.Gender).mean()"
   ]
  },
  {
   "cell_type": "code",
   "execution_count": 19,
   "id": "d4b42c4f",
   "metadata": {},
   "outputs": [],
   "source": [
    "female_marks=data[data['Gender']=='female']"
   ]
  },
  {
   "cell_type": "code",
   "execution_count": 20,
   "id": "e307c7c6",
   "metadata": {},
   "outputs": [],
   "source": [
    "male_marks=data[data['Gender']=='male']"
   ]
  },
  {
   "cell_type": "code",
   "execution_count": 21,
   "id": "c5423d85",
   "metadata": {},
   "outputs": [],
   "source": [
    "from scipy.stats import ttest_ind"
   ]
  },
  {
   "cell_type": "code",
   "execution_count": 23,
   "id": "c8d55c7e",
   "metadata": {},
   "outputs": [
    {
     "data": {
      "text/plain": [
       "Ttest_indResult(statistic=0.6998399299219519, pvalue=0.4906112127110316)"
      ]
     },
     "execution_count": 23,
     "metadata": {},
     "output_type": "execute_result"
    }
   ],
   "source": [
    "ttest_ind(female_marks['Total Marks'],male_marks['Total Marks'],equal_var=False)"
   ]
  },
  {
   "cell_type": "markdown",
   "id": "005dc1d2",
   "metadata": {},
   "source": [
    "### From the Ttest performed, pvalue=0.4906112127110316 > 0.05 and hence we cannot reject the null Hypothesis\n",
    "### i.e, we conclude the test result as:-\n",
    "### Female and male students scored the same marks"
   ]
  },
  {
   "cell_type": "markdown",
   "id": "a288ece3",
   "metadata": {},
   "source": [
    "# 3. Whether test preparation helps the students?"
   ]
  },
  {
   "cell_type": "markdown",
   "id": "ca5cec2d",
   "metadata": {},
   "source": [
    "## One tailed Two sample t-test"
   ]
  },
  {
   "cell_type": "markdown",
   "id": "3264f766",
   "metadata": {},
   "source": [
    "### Null Hypothesis: Students completed test preparation has same marks as those who didn't.\n",
    "### Alternate Hypothesis: Students completed test preparation  have higher marks than those who didn't."
   ]
  },
  {
   "cell_type": "code",
   "execution_count": 27,
   "id": "f8c485fd",
   "metadata": {},
   "outputs": [
    {
     "data": {
      "text/html": [
       "<div>\n",
       "<style scoped>\n",
       "    .dataframe tbody tr th:only-of-type {\n",
       "        vertical-align: middle;\n",
       "    }\n",
       "\n",
       "    .dataframe tbody tr th {\n",
       "        vertical-align: top;\n",
       "    }\n",
       "\n",
       "    .dataframe thead th {\n",
       "        text-align: right;\n",
       "    }\n",
       "</style>\n",
       "<table border=\"1\" class=\"dataframe\">\n",
       "  <thead>\n",
       "    <tr style=\"text-align: right;\">\n",
       "      <th></th>\n",
       "      <th>Gender</th>\n",
       "      <th>Test preparation</th>\n",
       "      <th>Total Marks</th>\n",
       "    </tr>\n",
       "  </thead>\n",
       "  <tbody>\n",
       "    <tr>\n",
       "      <th>0</th>\n",
       "      <td>male</td>\n",
       "      <td>none</td>\n",
       "      <td>14</td>\n",
       "    </tr>\n",
       "    <tr>\n",
       "      <th>1</th>\n",
       "      <td>female</td>\n",
       "      <td>none</td>\n",
       "      <td>28</td>\n",
       "    </tr>\n",
       "    <tr>\n",
       "      <th>2</th>\n",
       "      <td>female</td>\n",
       "      <td>none</td>\n",
       "      <td>18</td>\n",
       "    </tr>\n",
       "    <tr>\n",
       "      <th>3</th>\n",
       "      <td>female</td>\n",
       "      <td>none</td>\n",
       "      <td>48</td>\n",
       "    </tr>\n",
       "    <tr>\n",
       "      <th>4</th>\n",
       "      <td>female</td>\n",
       "      <td>none</td>\n",
       "      <td>21</td>\n",
       "    </tr>\n",
       "    <tr>\n",
       "      <th>5</th>\n",
       "      <td>female</td>\n",
       "      <td>completed</td>\n",
       "      <td>40</td>\n",
       "    </tr>\n",
       "    <tr>\n",
       "      <th>6</th>\n",
       "      <td>male</td>\n",
       "      <td>none</td>\n",
       "      <td>30</td>\n",
       "    </tr>\n",
       "    <tr>\n",
       "      <th>7</th>\n",
       "      <td>female</td>\n",
       "      <td>none</td>\n",
       "      <td>12</td>\n",
       "    </tr>\n",
       "    <tr>\n",
       "      <th>8</th>\n",
       "      <td>male</td>\n",
       "      <td>none</td>\n",
       "      <td>18</td>\n",
       "    </tr>\n",
       "    <tr>\n",
       "      <th>9</th>\n",
       "      <td>male</td>\n",
       "      <td>none</td>\n",
       "      <td>24</td>\n",
       "    </tr>\n",
       "  </tbody>\n",
       "</table>\n",
       "</div>"
      ],
      "text/plain": [
       "   Gender Test preparation  Total Marks\n",
       "0    male             none           14\n",
       "1  female             none           28\n",
       "2  female             none           18\n",
       "3  female             none           48\n",
       "4  female             none           21\n",
       "5  female        completed           40\n",
       "6    male             none           30\n",
       "7  female             none           12\n",
       "8    male             none           18\n",
       "9    male             none           24"
      ]
     },
     "execution_count": 27,
     "metadata": {},
     "output_type": "execute_result"
    }
   ],
   "source": [
    "data.head(10)"
   ]
  },
  {
   "cell_type": "code",
   "execution_count": 28,
   "id": "d5df0af8",
   "metadata": {},
   "outputs": [],
   "source": [
    "tp_done=data[data['Test preparation']=='completed']"
   ]
  },
  {
   "cell_type": "code",
   "execution_count": 29,
   "id": "e3bf79d4",
   "metadata": {},
   "outputs": [],
   "source": [
    "notp_done=data[data['Test preparation']=='none']"
   ]
  },
  {
   "cell_type": "code",
   "execution_count": 40,
   "id": "dc4bfbfc",
   "metadata": {},
   "outputs": [
    {
     "data": {
      "text/plain": [
       "Total Marks    44.571429\n",
       "dtype: float64"
      ]
     },
     "execution_count": 40,
     "metadata": {},
     "output_type": "execute_result"
    }
   ],
   "source": [
    "tp_done.mean()"
   ]
  },
  {
   "cell_type": "code",
   "execution_count": 41,
   "id": "7e9a1b06",
   "metadata": {},
   "outputs": [
    {
     "data": {
      "text/plain": [
       "Total Marks    28.238095\n",
       "dtype: float64"
      ]
     },
     "execution_count": 41,
     "metadata": {},
     "output_type": "execute_result"
    }
   ],
   "source": [
    "notp_done.mean()"
   ]
  },
  {
   "cell_type": "code",
   "execution_count": 49,
   "id": "2f62b525",
   "metadata": {},
   "outputs": [
    {
     "data": {
      "text/plain": [
       "Ttest_indResult(statistic=3.6143637527769217, pvalue=0.0012671292457320106)"
      ]
     },
     "execution_count": 49,
     "metadata": {},
     "output_type": "execute_result"
    }
   ],
   "source": [
    "ttest_ind(tp_done['Total Marks'],notp_done['Total Marks'])"
   ]
  },
  {
   "cell_type": "markdown",
   "id": "cb09ff23",
   "metadata": {},
   "source": [
    "### Here pvalue=0.0012671292457320106 < 0.05 and hence we reject the null hypothesis and accept the \n",
    "### Alternate hypothesis\n",
    "### i.e we conclude this test as:-  Students completed test preparation has higher marks than those who didn't.\n",
    "### i.e Test preparation has an impact on the marks scored by Students."
   ]
  },
  {
   "cell_type": "code",
   "execution_count": null,
   "id": "ed1fbc64",
   "metadata": {},
   "outputs": [],
   "source": []
  }
 ],
 "metadata": {
  "kernelspec": {
   "display_name": "Python 3",
   "language": "python",
   "name": "python3"
  },
  "language_info": {
   "codemirror_mode": {
    "name": "ipython",
    "version": 3
   },
   "file_extension": ".py",
   "mimetype": "text/x-python",
   "name": "python",
   "nbconvert_exporter": "python",
   "pygments_lexer": "ipython3",
   "version": "3.8.8"
  }
 },
 "nbformat": 4,
 "nbformat_minor": 5
}
